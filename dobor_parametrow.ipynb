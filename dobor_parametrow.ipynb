{
 "cells": [
  {
   "cell_type": "code",
   "execution_count": 6,
   "id": "0e9c71aa",
   "metadata": {},
   "outputs": [],
   "source": [
    "%matplotlib inline\n",
    "from IPython.display import display\n",
    "from ipywidgets import interact, interactive, fixed\n",
    "from IPython.core.display import clear_output\n",
    "\n",
    "from imports import *\n",
    "from functions import *"
   ]
  },
  {
   "cell_type": "code",
   "execution_count": 19,
   "id": "5184547f",
   "metadata": {},
   "outputs": [],
   "source": [
    "tram = \"4_04\"\n",
    "img = imread(\"dane/\"+tram+\".jpg\")\n",
    "img_norm = normalize_size(img)\n",
    "img_sat = rgb2hsv(img_norm)[:,:,1]\n",
    "\n",
    "# recognize segments\n",
    "segmentated = None"
   ]
  },
  {
   "cell_type": "code",
   "execution_count": 22,
   "id": "4e7d6e32",
   "metadata": {},
   "outputs": [
    {
     "data": {
      "application/vnd.jupyter.widget-view+json": {
       "model_id": "e26090092a94410db6e07cdd7e36cb9f",
       "version_major": 2,
       "version_minor": 0
      },
      "text/plain": [
       "interactive(children=(FloatSlider(value=0.0, description='low', max=1.0), FloatSlider(value=0.8, description='…"
      ]
     },
     "metadata": {},
     "output_type": "display_data"
    }
   ],
   "source": [
    "@interact(low = (0, 1, 0.1), high =(0.5, 1.1, 0.1))\n",
    "\n",
    "def on_change(low, high):\n",
    "    global segmentated\n",
    "    elevation_map = sobel(img_sat)\n",
    "\n",
    "    markers = np.zeros_like(img_sat)\n",
    "    markers[img_sat < low] = 1\n",
    "    markers[img_sat > high] = 2\n",
    "\n",
    "    segmentated = watershed(elevation_map, markers)\n",
    "    segmentated = ndi.binary_fill_holes(segmentated - 1)\n",
    "    segmentated = segmentated.astype(np.uint8)\n",
    "    \n",
    "    show(segmentated)"
   ]
  },
  {
   "cell_type": "code",
   "execution_count": 8,
   "id": "0df9fa50",
   "metadata": {
    "scrolled": true
   },
   "outputs": [
    {
     "name": "stdout",
     "output_type": "stream",
     "text": [
      "max: 247 \n",
      "min: 109 \n",
      "średnia: 178.0 \n",
      "mediana:  178.0 \n",
      "std:  69.0 \n",
      "\n",
      "[1. 0. 0. 0. 0. 0. 0. 0. 0. 1.] [109.  122.8 136.6 150.4 164.2 178.  191.8 205.6 219.4 233.2 247. ]\n"
     ]
    },
    {
     "data": {
      "image/png": "[encoded data removed]",
      "text/plain": [
       "<Figure size 432x288 with 1 Axes>"
      ]
     },
     "metadata": {
      "needs_background": "light"
     },
     "output_type": "display_data"
    }
   ],
   "source": [
    "label_objects, nb_labels = ndi.label(segmentated)\n",
    "sizes = np.bincount(label_objects.ravel())\n",
    "sizes = sizes[np.logical_and(sizes<1500, sizes>50)]\n",
    "print(\"max:\", max(sizes), \"\\nmin:\", min(sizes), \"\\nśrednia:\", np.mean(sizes), \"\\nmediana: \", np.median(sizes), \"\\nstd: \", np.std(sizes), \"\\n\")\n",
    "n, bins, patches = plt.hist(sizes) #\n",
    "print(n, bins)"
   ]
  },
  {
   "cell_type": "code",
   "execution_count": 23,
   "id": "e00f7045",
   "metadata": {},
   "outputs": [
    {
     "data": {
      "application/vnd.jupyter.widget-view+json": {
       "model_id": "ca3b1ea5e1f5444f9c3da092f7fba456",
       "version_major": 2,
       "version_minor": 0
      },
      "text/plain": [
       "interactive(children=(IntSlider(value=50, description='SMALL_TRESH', step=10), IntSlider(value=500, descriptio…"
      ]
     },
     "metadata": {},
     "output_type": "display_data"
    }
   ],
   "source": [
    "@interact(SMALL_TRESH=(0,100,10), BIG_TRESH=(100,1000,100), RED_TRESH=(0,255,1), BLUE_TRESH=(0,255,1), GREY_BCKG_LVL = (0.2,0.5, 0.1))\n",
    "\n",
    "def on_change(SMALL_TRESH, BIG_TRESH, RED_TRESH, BLUE_TRESH, BB_FACTOR_X = 1.5, BB_FACTOR_Y = 1.2, BB_MIN_WIDTH = 4, BB_MIN_HEIGHT = 13, GREY_BCKG_LVL = 0.4):    \n",
    "    c = {\"RED_TRESH\": RED_TRESH, \"BLUE_TRESH\": BLUE_TRESH, \"SMALL_TRESH\": SMALL_TRESH, \"BIG_TRESH\": BIG_TRESH, \"BB_FACTOR_X\": BB_FACTOR_X, \"BB_FACTOR_Y\": BB_FACTOR_Y, \"BB_MIN_WIDTH\": BB_MIN_WIDTH, \"BB_MIN_HEIGHT\": BB_MIN_HEIGHT, \"GREY_BCKG_LVL\": GREY_BCKG_LVL}\n",
    "    \n",
    "    masked = apply_masks(img_norm, segmentated, c[\"RED_TRESH\"], c[\"BLUE_TRESH\"])\n",
    "\n",
    "    cleaned = discard_small_and_big(masked, c[\"SMALL_TRESH\"], c[\"BIG_TRESH\"])\n",
    "    cleaned = cleaned.astype(np.uint8)\n",
    "\n",
    "    cleaned = apply_masks(img_norm, cleaned, c[\"RED_TRESH\"], c[\"BLUE_TRESH\"])\n",
    "\n",
    "    # recognize edges\n",
    "    contours, hierarchy = cv2.findContours(cleaned, cv2.RETR_EXTERNAL, cv2.CHAIN_APPROX_SIMPLE)\n",
    "\n",
    "    img_cont = img_norm.copy()\n",
    "    cv2.drawContours(img_cont, contours, -1, (255,0,0), 2)\n",
    "\n",
    "    for cnt in contours:\n",
    "        try:\n",
    "            slice = process_slice(cnt, img_cont, img_norm, cleaned, c)\n",
    "        except SliceDiscardedException as e:\n",
    "            # print(e.message)\n",
    "            pass\n",
    "    show(segmentated, masked, cleaned)"
   ]
  },
  {
   "cell_type": "code",
   "execution_count": 5,
   "id": "19dd0192",
   "metadata": {},
   "outputs": [
    {
     "ename": "NameError",
     "evalue": "name 'asgsdhfgj' is not defined",
     "output_type": "error",
     "traceback": [
      "\u001b[0;31m---------------------------------------------------------------------------\u001b[0m",
      "\u001b[0;31mNameError\u001b[0m                                 Traceback (most recent call last)",
      "\u001b[0;32m<ipython-input-5-fd6285e76741>\u001b[0m in \u001b[0;36m<module>\u001b[0;34m\u001b[0m\n\u001b[0;32m----> 1\u001b[0;31m \u001b[0masgsdhfgj\u001b[0m\u001b[0;34m\u001b[0m\u001b[0;34m\u001b[0m\u001b[0m\n\u001b[0m\u001b[1;32m      2\u001b[0m \u001b[0msdfhg\u001b[0m\u001b[0;34m\u001b[0m\u001b[0;34m\u001b[0m\u001b[0m\n\u001b[1;32m      3\u001b[0m \u001b[0masd\u001b[0m\u001b[0;34m\u001b[0m\u001b[0;34m\u001b[0m\u001b[0m\n\u001b[1;32m      4\u001b[0m \u001b[0mfgfh\u001b[0m\u001b[0;34m\u001b[0m\u001b[0;34m\u001b[0m\u001b[0m\n\u001b[1;32m      5\u001b[0m \u001b[0;34m\u001b[0m\u001b[0m\n",
      "\u001b[0;31mNameError\u001b[0m: name 'asgsdhfgj' is not defined"
     ]
    }
   ],
   "source": [
    "asgsdhfgj\n",
    "sdfhg\n",
    "asd\n",
    "fgfh\n",
    "\n",
    "afs\n",
    "df\n",
    "sdfg\n",
    "d\n",
    "hj\n",
    "fgh\n",
    "j\n",
    "ghj\n",
    "hgj\n",
    "hj\n",
    "ghj\n",
    "h\n",
    "jhg\n",
    "jf\n",
    "gj\n",
    "ghj\n",
    "hg\n",
    "jh\n",
    "f\n",
    "g"
   ]
  }
 ],
 "metadata": {
  "kernelspec": {
   "display_name": "Environment (conda_jup_ml)",
   "language": "python",
   "name": "conda_jup_ml"
  },
  "language_info": {
   "codemirror_mode": {
    "name": "ipython",
    "version": 3
   },
   "file_extension": ".py",
   "mimetype": "text/x-python",
   "name": "python",
   "nbconvert_exporter": "python",
   "pygments_lexer": "ipython3",
   "version": "3.9.4"
  }
 },
 "nbformat": 4,
 "nbformat_minor": 5
}

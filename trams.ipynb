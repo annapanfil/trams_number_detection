{
 "cells": [
  {
   "cell_type": "code",
   "execution_count": null,
   "id": "8a5ad6f2",
   "metadata": {},
   "outputs": [],
   "source": [
    "%matplotlib inline\n",
    "import numpy as np\n",
    "from numpy import array\n",
    "\n",
    "from math import ceil\n",
    "\n",
    "from matplotlib import pylab as plt  \n",
    "from matplotlib.pyplot import imshow\n",
    "\n",
    "from pylab import imread\n",
    "\n",
    "import skimage\n",
    "from skimage import morphology, measure, draw, feature, exposure\n",
    "from skimage.color import rgb2hsv, rgb2gray\n",
    "from skimage.morphology import square\n",
    "from skimage.feature import canny\n",
    "from skimage.filters import sobel\n",
    "from skimage.segmentation import watershed\n",
    "\n",
    "import cv2\n",
    "\n",
    "from scipy import ndimage as ndi"
   ]
  },
  {
   "cell_type": "code",
   "execution_count": null,
   "id": "f4567de4",
   "metadata": {},
   "outputs": [],
   "source": [
    "def show_array(arr, cols=3):\n",
    "    \"Show a mosaic of images list and save it to jpg\"\n",
    "    rows = ceil(len(arr)/cols)\n",
    "    plt.figure(figsize=(cols*30,rows*20))\n",
    "    \n",
    "    for i,img in enumerate(arr):\n",
    "        ax = plt.subplot(rows, cols, i+1)\n",
    "        ax.set_xticks([])\n",
    "        ax.set_yticks([])\n",
    "        imshow(img, cmap='gray')\n",
    "#     plt.savefig(\"tramwaje\")\n",
    "\n",
    "def show(*args):\n",
    "    \"Show multiple images in a row\"\n",
    "    plt.figure(figsize=(20,12))\n",
    "    for i,img in enumerate(args):\n",
    "        plt.subplot(1, len(args), i+1)\n",
    "        imshow(img, cmap='gray')\n",
    "    \n",
    "def get_saturation(img):\n",
    "#     \"Return saturation for each pixel\"\n",
    "    img_sat = []\n",
    "    for row in rgb2hsv(img):\n",
    "        temp = []\n",
    "        for col in row:\n",
    "            temp.append(col[1])\n",
    "        img_sat.append(temp)\n",
    "    img_sat = np.array(img_sat)\n",
    "    return img_sat\n",
    "\n",
    "def cut_dark(img, treshold):\n",
    "    img_cut = []\n",
    "    for row in img:\n",
    "        temp = []\n",
    "        for pix in row:\n",
    "            if pix > treshold: \n",
    "                temp.append(pix)\n",
    "            else: \n",
    "                temp.append(0)\n",
    "        img_cut.append(temp)\n",
    "    return img_cut"
   ]
  },
  {
   "cell_type": "code",
   "execution_count": null,
   "id": "f1cd6fd6",
   "metadata": {},
   "outputs": [],
   "source": [
    "tram_names = [\"1_02\", \"2_01\", \"4_03\", \"4_04\",\"5_07\",\"5_12\",\"6_02\"]\n",
    "tram = \"5_07\"\n",
    "tram = \"4_04\"\n",
    "imgs = []"
   ]
  },
  {
   "cell_type": "code",
   "execution_count": null,
   "id": "313ae4b0",
   "metadata": {},
   "outputs": [],
   "source": [
    "imgs = []\n",
    "canny_low = 0.8*255\n",
    "canny_high = 255\n",
    "\n",
    "# for tram in tram_names:\n",
    "# Read image\n",
    "img = imread(\"dane/\"+tram+\".jpg\")\n",
    "# img_sat = np.uint8(get_saturation(img)*255)\n",
    "img_sat = get_saturation(img)\n",
    "# edges = canny(img_sat, low_threshold=0.8)\n",
    "# edges = cv2.Canny(img_sat, canny_low, canny_high) //bad performance\n",
    "\n",
    "elevation_map = sobel(img_sat)\n",
    "# show(elevation_map)\n",
    "\n",
    "markers = np.zeros_like(img_sat)\n",
    "markers[img_sat < 0.4] = 1\n",
    "markers[img_sat > 0.95] = 2\n",
    "\n",
    "segmentation = watershed(elevation_map, markers)\n",
    "\n",
    "show(img_sat, segmentation)\n",
    "\n",
    "# contour_info = [(c, cv2.contourArea(c),) for c in cv2.findContours(edges, cv2.RETR_LIST, cv2.CHAIN_APPROX_NONE)[1]]\n",
    "# contour_info\n",
    "# fill_img = ndi.binary_fill_holes(edges)\n",
    "# imgs.append(img_sat)\n",
    "# show_array(imgs + [fill_img])"
   ]
  },
  {
   "cell_type": "code",
   "execution_count": null,
   "id": "66920921",
   "metadata": {},
   "outputs": [],
   "source": [
    "hist, hist_centers = exposure.histogram(img_sat)\n",
    "plt.plot(hist_centers, hist)"
   ]
  },
  {
   "cell_type": "markdown",
   "id": "c1bfeef2",
   "metadata": {},
   "source": [
    "#todo:\n",
    "to samo na kanale koloru. Czerwonego? Pomarańczowego?"
   ]
  },
  {
   "cell_type": "code",
   "execution_count": null,
   "id": "31ca509d",
   "metadata": {},
   "outputs": [],
   "source": []
  },
  {
   "cell_type": "code",
   "execution_count": null,
   "id": "498bb3b1",
   "metadata": {},
   "outputs": [],
   "source": []
  }
 ],
 "metadata": {
  "kernelspec": {
   "display_name": "Environment (conda_jup_ml)",
   "language": "python",
   "name": "conda_jup_ml"
  }
 },
 "nbformat": 4,
 "nbformat_minor": 5
}
